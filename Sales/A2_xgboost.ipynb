{
 "cells": [
  {
   "cell_type": "code",
   "execution_count": 1,
   "metadata": {},
   "outputs": [],
   "source": [
    "import pickle\n",
    "import numpy as np\n",
    "import os\n",
    "import pandas as pd\n",
    "base_dir = \"C://DATA//train//49_kaggle//KaggleFun//Sales//DATA\"\n",
    "train_ds = pickle.load(open( os.path.join(base_dir,\"train_10.pkl\"), \"rb\" ) )\n",
    "test_ds = pickle.load(open( os.path.join(base_dir,\"test_10.pkl\"), \"rb\" ) )"
   ]
  },
  {
   "cell_type": "code",
   "execution_count": 2,
   "metadata": {},
   "outputs": [
    {
     "data": {
      "text/plain": [
       "array([   59., 22169.,    83.,  1305.,  1305.,  1305.,  1305.,  1305.,\n",
       "        1305.,  1305.,  1305.,  1305.,  1305.])"
      ]
     },
     "execution_count": 2,
     "metadata": {},
     "output_type": "execute_result"
    }
   ],
   "source": [
    "np.max(train_ds, axis=0)"
   ]
  },
  {
   "cell_type": "code",
   "execution_count": 3,
   "metadata": {},
   "outputs": [],
   "source": [
    "# from sklearn.preprocessing import StandardScaler\n",
    "# scaler = StandardScaler()\n",
    "# train_ds[:,:-1] = scaler.fit_transform(train_ds[:,:-1])\n",
    "# test_ds[:,:-1] = scaler.transform(test_ds[:,:-1])"
   ]
  },
  {
   "cell_type": "code",
   "execution_count": 3,
   "metadata": {},
   "outputs": [],
   "source": [
    "train_x = train_ds[:,:-1]\n",
    "train_y = train_ds[:,-1]\n",
    "\n",
    "test_x = test_ds[:,:-1]\n",
    "test_y = test_ds[:,-1]"
   ]
  },
  {
   "cell_type": "code",
   "execution_count": 4,
   "metadata": {},
   "outputs": [],
   "source": [
    "from sklearn.metrics import mean_squared_error as mse\n",
    "\n",
    "def eva(model):\n",
    "    y0 = model.predict(train_x)\n",
    "    \n",
    "    y1 = model.predict(test_x)\n",
    "    print(\"Train MSE: {}, Test MSE: {}\".format(mse(train_y, y0), mse(test_y, y1)))"
   ]
  },
  {
   "cell_type": "code",
   "execution_count": 5,
   "metadata": {},
   "outputs": [],
   "source": [
    "del train_ds, test_ds"
   ]
  },
  {
   "cell_type": "code",
   "execution_count": 6,
   "metadata": {},
   "outputs": [
    {
     "name": "stderr",
     "output_type": "stream",
     "text": [
      "C:\\Users\\alvan_li\\Anaconda3\\lib\\site-packages\\xgboost\\data.py:96: UserWarning: Use subset (sliced data) of np.ndarray is not recommended because it will generate extra copies and increase memory consumption\n",
      "  \"because it will generate extra copies and increase \" +\n"
     ]
    },
    {
     "name": "stdout",
     "output_type": "stream",
     "text": [
      "[10:37:20] WARNING: C:\\Users\\Administrator\\workspace\\xgboost-win64_release_1.2.0\\src\\gbm\\gbtree.cc:139: Tree method is automatically selected to be 'approx' for faster speed. To use old behavior (exact greedy algorithm on single machine), set tree_method to 'exact'.\n",
      "Train MSE: 3.2789476067805277, Test MSE: 20.087382665575145\n"
     ]
    }
   ],
   "source": [
    "from xgboost import XGBRegressor\n",
    "learning_rate = 0.5\n",
    "max_depth = 5\n",
    "n_estimators = 200\n",
    "\n",
    "xgb_model=XGBRegressor(learning_rate=learning_rate,min_child_weight=1, max_depth=max_depth, n_estimators=n_estimators)\n",
    "xgb_model.fit(train_x,train_y, verbose=True, eval_metric=\"rmse\")\n",
    "eva(xgb_model)"
   ]
  },
  {
   "cell_type": "code",
   "execution_count": 7,
   "metadata": {},
   "outputs": [
    {
     "data": {
      "text/plain": [
       "<matplotlib.axes._subplots.AxesSubplot at 0x1d98025c108>"
      ]
     },
     "execution_count": 7,
     "metadata": {},
     "output_type": "execute_result"
    }
   ],
   "source": [
    "import matplotlib.pyplot as plt\n",
    "from xgboost import plot_importance\n",
    "def plot_features(booster, figsize):    \n",
    "    fig, ax = plt.subplots(1,1,figsize=figsize)\n",
    "    return plot_importance(booster=booster, ax=ax)\n",
    "\n",
    "plot_features(xgb_model, (10,14))"
   ]
  }
 ],
 "metadata": {
  "kernelspec": {
   "display_name": "Python 3",
   "language": "python",
   "name": "python3"
  },
  "language_info": {
   "codemirror_mode": {
    "name": "ipython",
    "version": 3
   },
   "file_extension": ".py",
   "mimetype": "text/x-python",
   "name": "python",
   "nbconvert_exporter": "python",
   "pygments_lexer": "ipython3",
   "version": "3.7.4"
  }
 },
 "nbformat": 4,
 "nbformat_minor": 2
}
