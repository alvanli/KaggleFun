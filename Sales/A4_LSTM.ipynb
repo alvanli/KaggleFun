{
 "cells": [
  {
   "cell_type": "code",
   "execution_count": 1,
   "metadata": {
    "colab": {},
    "colab_type": "code",
    "id": "x7BkRWUVVMbr"
   },
   "outputs": [],
   "source": [
    "import pickle\n",
    "import os\n",
    "import numpy as np\n",
    "base_dir = \"C://DATA//train//49_kaggle//KaggleFun//Sales//DATA\""
   ]
  },
  {
   "cell_type": "code",
   "execution_count": 2,
   "metadata": {
    "colab": {},
    "colab_type": "code",
    "id": "zwjznOikVMbx"
   },
   "outputs": [],
   "source": [
    "from torch.utils.data import Dataset, DataLoader\n",
    "class NumpyDataset(Dataset):\n",
    "    def __init__(self, ds, lag=15):\n",
    "        self.x_cat = ds[:,0:3]\n",
    "        self.x_price = ds[:,3:3+lag]\n",
    "        self.x_time = np.expand_dims(ds[:,33-lag:32], -1)\n",
    "        self.y = ds[:,-1]\n",
    "    def __len__(self): \n",
    "        return len(self.y)\n",
    "    def __getitem__(self, idx):\n",
    "        return self.x_cat[idx], self.x_time[idx], self.x_price[idx], self.y[idx]"
   ]
  },
  {
   "cell_type": "code",
   "execution_count": 3,
   "metadata": {
    "colab": {},
    "colab_type": "code",
    "id": "Xiurrta2VMb2"
   },
   "outputs": [],
   "source": [
    "train_ds = pickle.load( open( os.path.join(base_dir,\"train_15.pkl\"), \"rb\" ) )\n",
    "test_ds = pickle.load( open( os.path.join(base_dir,\"test_15.pkl\"), \"rb\" ) )"
   ]
  },
  {
   "cell_type": "code",
   "execution_count": 4,
   "metadata": {
    "colab": {},
    "colab_type": "code",
    "id": "Gt0ffH6SVMb7"
   },
   "outputs": [],
   "source": [
    "train_ds = NumpyDataset(train_ds, lag=15)\n",
    "test_ds = NumpyDataset(test_ds, lag=15)\n",
    "\n",
    "batch_size = 200\n",
    "\n",
    "train_loader = DataLoader(train_ds, shuffle=True, batch_size=batch_size, drop_last = True)\n",
    "test_loader = DataLoader(test_ds, shuffle=True, batch_size=batch_size, drop_last = True)"
   ]
  },
  {
   "cell_type": "code",
   "execution_count": 8,
   "metadata": {
    "colab": {},
    "colab_type": "code",
    "id": "8UW6fzQcVMb-"
   },
   "outputs": [],
   "source": [
    "import torch\n",
    "import torch.nn as nn\n",
    "import torch.nn.functional as F\n",
    "import torch.optim as optim\n",
    "\n",
    "class Net(nn.Module):   \n",
    "    def __init__(self, lag = 15, batch_size = 200):\n",
    "        super(Net, self).__init__()\n",
    "        self.hidden_size = 10\n",
    "        self.lstm1 = nn.LSTM(1, hidden_size= self.hidden_size, num_layers = 4, batch_first=True)\n",
    "        self.dropout = nn.Dropout(0.25)\n",
    "        self.lag = lag\n",
    "        self.linear1 = nn.Linear(self.hidden_size * (lag-1), 32)\n",
    "        \n",
    "#         self.lstm2 = nn.LSTM(1, num_layers = 2, batch_first=True)\n",
    "#         self.linear2 = nn.Linear(self.hidden_size * (lag-1), 32)\n",
    "        self.linear2 = nn.Linear(lag, 16)\n",
    "    \n",
    "        self.linear_layers = nn.Sequential(\n",
    "            nn.Linear(3, 16),\n",
    "            nn.Dropout(0.25),\n",
    "            nn.Linear(16,32),\n",
    "            nn.Dropout(0.25),\n",
    "        )\n",
    "        \n",
    "        self.fc = nn.Sequential(\n",
    "            nn.Linear(48+32,32),\n",
    "            nn.BatchNorm1d(32),\n",
    "            nn.Dropout(0.3),\n",
    "            nn.Linear(32, 32), \n",
    "            nn.Dropout(0.3),\n",
    "            nn.Linear(32, 16), \n",
    "            nn.Dropout(0.3),\n",
    "            nn.Linear(16,1),\n",
    "        )\n",
    "\n",
    "    # Defining the forward pass    \n",
    "    def forward(self, x1, x2, x3):\n",
    "        x1 = self.linear_layers(x1)\n",
    "        x2, _ = self.lstm1(x2)\n",
    "        x2 = x2.contiguous().view(200,-1)\n",
    "        x2 = self.linear1(x2)\n",
    "        x2 = self.dropout(x2)\n",
    "        \n",
    "        x3 = self.linear2(x3)\n",
    "        x3 = self.dropout(x3)\n",
    "        \n",
    "        x = torch.cat([x1, x2, x3], axis = 1)\n",
    "        x = self.fc(x)\n",
    "        return x"
   ]
  },
  {
   "cell_type": "code",
   "execution_count": 9,
   "metadata": {
    "colab": {
     "base_uri": "https://localhost:8080/",
     "height": 301
    },
    "colab_type": "code",
    "id": "L0hFp4UTVMcC",
    "outputId": "634dfd5f-9f9a-41f3-825e-db83916eb2ae"
   },
   "outputs": [
    {
     "name": "stdout",
     "output_type": "stream",
     "text": [
      "Net(\n",
      "  (lstm1): LSTM(1, 10, num_layers=4, batch_first=True)\n",
      "  (dropout): Dropout(p=0.25, inplace=False)\n",
      "  (linear1): Linear(in_features=140, out_features=32, bias=True)\n",
      "  (linear2): Linear(in_features=15, out_features=16, bias=True)\n",
      "  (linear_layers): Sequential(\n",
      "    (0): Linear(in_features=3, out_features=16, bias=True)\n",
      "    (1): Dropout(p=0.25, inplace=False)\n",
      "    (2): Linear(in_features=16, out_features=32, bias=True)\n",
      "    (3): Dropout(p=0.25, inplace=False)\n",
      "  )\n",
      "  (fc): Sequential(\n",
      "    (0): Linear(in_features=80, out_features=32, bias=True)\n",
      "    (1): BatchNorm1d(32, eps=1e-05, momentum=0.1, affine=True, track_running_stats=True)\n",
      "    (2): Dropout(p=0.3, inplace=False)\n",
      "    (3): Linear(in_features=32, out_features=32, bias=True)\n",
      "    (4): Dropout(p=0.3, inplace=False)\n",
      "    (5): Linear(in_features=32, out_features=16, bias=True)\n",
      "    (6): Dropout(p=0.3, inplace=False)\n",
      "    (7): Linear(in_features=16, out_features=1, bias=True)\n",
      "  )\n",
      ")\n"
     ]
    }
   ],
   "source": [
    "device = torch.device('cuda:0' if torch.cuda.is_available() else 'cpu')\n",
    "model = Net(lag=15)\n",
    "model.to(device)\n",
    "lr=0.05\n",
    "criterion = nn.MSELoss()\n",
    "optimizer = torch.optim.Adam(model.parameters(), lr=lr)\n",
    "epochs = 20\n",
    "print(model)"
   ]
  },
  {
   "cell_type": "code",
   "execution_count": null,
   "metadata": {
    "colab": {
     "base_uri": "https://localhost:8080/",
     "height": 1000
    },
    "colab_type": "code",
    "id": "hP3aqiz7VMcF",
    "outputId": "3b429166-2f17-45a7-af8c-623f1d701562",
    "scrolled": true
   },
   "outputs": [
    {
     "name": "stdout",
     "output_type": "stream",
     "text": [
      "Epoch: 0, Loss: 2.31, Val Loss: 24.35\n",
      "Epoch: 1, Loss: 0.26, Val Loss: 24.27\n",
      "Epoch: 2, Loss: 0.56, Val Loss: 24.27\n"
     ]
    }
   ],
   "source": [
    "model.train()\n",
    "loss_min = np.inf\n",
    "for i in range(epochs):\n",
    "    for batch_idx, (x1, x2, x3, y) in enumerate(train_loader):\n",
    "        x1, x2, x3, y = x1.to(device).float(), x2.to(device).float(), x3.to(device).float(), y.to(device).float()\n",
    "        model.zero_grad()\n",
    "        output = model(x1, x2, x3)\n",
    "        loss = criterion(output.flatten(), y)\n",
    "        loss.backward()\n",
    "        optimizer.step()\n",
    "        if batch_idx == 0:\n",
    "            test_loss = []\n",
    "            for xx1, xx2, xx3, yy in test_loader:\n",
    "                xx1, xx2, xx3, yy = xx1.to(device).float(), xx2.to(device).float(), xx3.to(device).float(), yy.to(device).float()\n",
    "                model.zero_grad()\n",
    "                yyout = model(xx1, xx2, xx3)\n",
    "                test_loss.append(criterion(yyout.flatten(), yy).detach().cpu().numpy())\n",
    "            print(\"Epoch: {}, Loss: {:.2f}, Val Loss: {:.2f}\".format(i, loss, np.mean(test_loss)))"
   ]
  },
  {
   "cell_type": "code",
   "execution_count": null,
   "metadata": {
    "colab": {},
    "colab_type": "code",
    "id": "5pBSVHtzVMcH"
   },
   "outputs": [],
   "source": [
    "# Epoch: 0, Loss: 1.84, Val Loss: 25.30\n",
    "# Epoch: 1, Loss: 1.25, Val Loss: 24.68\n",
    "# Epoch: 2, Loss: 0.68, Val Loss: 24.46\n",
    "# Epoch: 3, Loss: 4.10, Val Loss: 26.74\n",
    "# Epoch: 4, Loss: 0.46, Val Loss: 23.77\n",
    "# Epoch: 5, Loss: 0.77, Val Loss: 24.23\n",
    "# Epoch: 6, Loss: 4.06, Val Loss: 23.51\n",
    "# Epoch: 7, Loss: 0.28, Val Loss: 24.08\n",
    "# Epoch: 8, Loss: 0.22, Val Loss: 23.92\n",
    "# Epoch: 9, Loss: 1.90, Val Loss: 23.50\n",
    "# Epoch: 10, Loss: 1.17, Val Loss: 23.79\n",
    "# Epoch: 11, Loss: 7.23, Val Loss: 24.23\n",
    "# Epoch: 12, Loss: 0.47, Val Loss: 24.24\n",
    "# Epoch: 13, Loss: 0.54, Val Loss: 23.81\n",
    "# Epoch: 14, Loss: 0.73, Val Loss: 24.24\n",
    "# Epoch: 15, Loss: 0.55, Val Loss: 24.22\n",
    "# Epoch: 16, Loss: 8.27, Val Loss: 23.84\n",
    "# Epoch: 17, Loss: 1.60, Val Loss: 23.38"
   ]
  }
 ],
 "metadata": {
  "accelerator": "GPU",
  "colab": {
   "name": "A2_LSTM.ipynb",
   "provenance": []
  },
  "kernelspec": {
   "display_name": "Python 3",
   "language": "python",
   "name": "python3"
  },
  "language_info": {
   "codemirror_mode": {
    "name": "ipython",
    "version": 3
   },
   "file_extension": ".py",
   "mimetype": "text/x-python",
   "name": "python",
   "nbconvert_exporter": "python",
   "pygments_lexer": "ipython3",
   "version": "3.7.4"
  }
 },
 "nbformat": 4,
 "nbformat_minor": 1
}
