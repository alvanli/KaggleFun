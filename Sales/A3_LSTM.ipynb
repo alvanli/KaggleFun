{
  "nbformat": 4,
  "nbformat_minor": 0,
  "metadata": {
    "kernelspec": {
      "display_name": "Python 3",
      "language": "python",
      "name": "python3"
    },
    "language_info": {
      "codemirror_mode": {
        "name": "ipython",
        "version": 3
      },
      "file_extension": ".py",
      "mimetype": "text/x-python",
      "name": "python",
      "nbconvert_exporter": "python",
      "pygments_lexer": "ipython3",
      "version": "3.7.4"
    },
    "colab": {
      "name": "A3_LSTM.ipynb",
      "provenance": []
    }
  },
  "cells": [
    {
      "cell_type": "code",
      "metadata": {
        "id": "qL6wGyYDVP9t",
        "colab_type": "code",
        "colab": {}
      },
      "source": [
        "import os\n",
        "import pandas as pd\n",
        "from datetime import datetime\n",
        "import numpy as np\n",
        "base_dir = \"\""
      ],
      "execution_count": 1,
      "outputs": []
    },
    {
      "cell_type": "code",
      "metadata": {
        "id": "ZcHsPDW5VP9z",
        "colab_type": "code",
        "colab": {}
      },
      "source": [
        "from torch.utils.data import Dataset, DataLoader\n",
        "class NumpyDataset(Dataset):\n",
        "    def __init__(self, ds, lag):\n",
        "        self.x_cat = ds[:,0:3]\n",
        "        self.x_time = np.expand_dims(ds[:,3:-1], -1)\n",
        "        self.y = ds[:,-1]\n",
        "    def __len__(self): \n",
        "        return len(self.y)\n",
        "    def __getitem__(self, idx):\n",
        "        return self.x_cat[idx], self.x_time[idx], self.y[idx]"
      ],
      "execution_count": 2,
      "outputs": []
    },
    {
      "cell_type": "code",
      "metadata": {
        "id": "Q2UP5D-Zf7Xn",
        "colab_type": "code",
        "colab": {
          "base_uri": "https://localhost:8080/",
          "height": 35
        },
        "outputId": "c291062d-3e1e-4a1e-e4fe-65dd116e2415"
      },
      "source": [
        "%cd"
      ],
      "execution_count": 4,
      "outputs": [
        {
          "output_type": "stream",
          "text": [
            "/root\n"
          ],
          "name": "stdout"
        }
      ]
    },
    {
      "cell_type": "code",
      "metadata": {
        "id": "f6ksPDhJVP92",
        "colab_type": "code",
        "colab": {}
      },
      "source": [
        "import pickle\n",
        "train_ds = pickle.load(open( os.path.join(base_dir,\"train_10.pkl\"), \"rb\" ) )\n",
        "test_ds = pickle.load(open( os.path.join(base_dir,\"test_10.pkl\"), \"rb\" ) )"
      ],
      "execution_count": 15,
      "outputs": []
    },
    {
      "cell_type": "code",
      "metadata": {
        "id": "3ZK5LjRTVP94",
        "colab_type": "code",
        "colab": {}
      },
      "source": [
        "from sklearn.preprocessing import StandardScaler\n",
        "scaler = StandardScaler()\n",
        "train_ds[:,:-1] = scaler.fit_transform(train_ds[:,:-1])\n",
        "test_ds[:,:-1] = scaler.transform(test_ds[:,:-1])"
      ],
      "execution_count": 16,
      "outputs": []
    },
    {
      "cell_type": "code",
      "metadata": {
        "id": "Th5W90upVP96",
        "colab_type": "code",
        "colab": {}
      },
      "source": [
        "train_ds = NumpyDataset(train_ds, lag=10)\n",
        "test_ds = NumpyDataset(test_ds, lag=10)\n",
        "\n",
        "batch_size = 200\n",
        "\n",
        "train_loader = DataLoader(train_ds, shuffle=True, batch_size=batch_size, drop_last = True)\n",
        "test_loader = DataLoader(test_ds, shuffle=True, batch_size=batch_size, drop_last = True)"
      ],
      "execution_count": 7,
      "outputs": []
    },
    {
      "cell_type": "code",
      "metadata": {
        "id": "obODorcEVP99",
        "colab_type": "code",
        "colab": {}
      },
      "source": [
        "import torch\n",
        "import torch.nn as nn\n",
        "import torch.nn.functional as F\n",
        "import torch.optim as optim\n",
        "\n",
        "class Net(nn.Module):   \n",
        "    def __init__(self, lag = 10, batch_size = 200):\n",
        "        super(Net, self).__init__()\n",
        "        self.hidden_size = 10\n",
        "        self.enlstm1 = nn.LSTM(1, hidden_size= self.hidden_size, num_layers = 2, batch_first=True)\n",
        "        self.delstm1 = nn.LSTM(self.hidden_size, hidden_size = self.hidden_size, num_layers = 2, batch_first = True)\n",
        "        self.dropout = nn.Dropout(0.25)\n",
        "        self.linear1 = nn.Linear(self.hidden_size * (lag-1), 32)\n",
        "        \n",
        "        self.linear_layers = nn.Sequential(\n",
        "            nn.Linear(3, 16),\n",
        "            nn.Linear(16,32),\n",
        "            nn.Dropout(0.25),\n",
        "        )\n",
        "        \n",
        "        self.fc = nn.Sequential(\n",
        "            nn.Linear(64,32),\n",
        "            nn.BatchNorm1d(32),\n",
        "            nn.Dropout(0.3),\n",
        "            nn.Linear(32,1),\n",
        "        )\n",
        "\n",
        "    # Defining the forward pass    \n",
        "    def forward(self, x1, x2):\n",
        "        x1 = self.linear_layers(x1)\n",
        "        x2, h2 = self.enlstm1(x2)\n",
        "        x2 = x2.contiguous().view(200,-1, self.hidden_size)\n",
        "        x2, _ = self.delstm1(x2, h2)\n",
        "        x2 = x2.contiguous().view(200,-1)\n",
        "        x2 = self.linear1(x2)\n",
        "        x2 = self.dropout(x2)\n",
        "        \n",
        "        x = torch.cat([x1, x2], axis = 1)\n",
        "        x = self.fc(x)\n",
        "        return x"
      ],
      "execution_count": 8,
      "outputs": []
    },
    {
      "cell_type": "code",
      "metadata": {
        "id": "6CqgA1LTVP9_",
        "colab_type": "code",
        "colab": {
          "base_uri": "https://localhost:8080/",
          "height": 319
        },
        "outputId": "92895893-f0db-409f-804a-220983d177bb"
      },
      "source": [
        "device = torch.device('cuda:0' if torch.cuda.is_available() else 'cpu')\n",
        "model = Net(lag=10)\n",
        "model.to(device)\n",
        "lr=0.05\n",
        "criterion = nn.MSELoss()\n",
        "optimizer = torch.optim.Adam(model.parameters(), lr=lr)\n",
        "epochs = 30\n",
        "print(model)"
      ],
      "execution_count": 10,
      "outputs": [
        {
          "output_type": "stream",
          "text": [
            "Net(\n",
            "  (enlstm1): LSTM(1, 10, num_layers=2, batch_first=True)\n",
            "  (delstm1): LSTM(10, 10, num_layers=2, batch_first=True)\n",
            "  (dropout): Dropout(p=0.25, inplace=False)\n",
            "  (linear1): Linear(in_features=90, out_features=32, bias=True)\n",
            "  (linear_layers): Sequential(\n",
            "    (0): Linear(in_features=3, out_features=16, bias=True)\n",
            "    (1): Linear(in_features=16, out_features=32, bias=True)\n",
            "    (2): Dropout(p=0.25, inplace=False)\n",
            "  )\n",
            "  (fc): Sequential(\n",
            "    (0): Linear(in_features=64, out_features=32, bias=True)\n",
            "    (1): BatchNorm1d(32, eps=1e-05, momentum=0.1, affine=True, track_running_stats=True)\n",
            "    (2): Dropout(p=0.3, inplace=False)\n",
            "    (3): Linear(in_features=32, out_features=1, bias=True)\n",
            "  )\n",
            ")\n"
          ],
          "name": "stdout"
        }
      ]
    },
    {
      "cell_type": "code",
      "metadata": {
        "scrolled": true,
        "id": "h3wBAKE8VP-C",
        "colab_type": "code",
        "colab": {
          "base_uri": "https://localhost:8080/",
          "height": 548
        },
        "outputId": "6bd532ed-5012-40c3-a177-3663775afa2d"
      },
      "source": [
        "model.train()\n",
        "loss_min = np.inf\n",
        "for i in range(epochs):\n",
        "    for batch_idx, (x1, x2, y) in enumerate(train_loader):\n",
        "        x1, x2, y = x1.to(device).float(), x2.to(device).float(), y.to(device).float()\n",
        "        model.zero_grad()\n",
        "        output = model(x1, x2)\n",
        "        loss = criterion(output.flatten(), y)\n",
        "        loss.backward()\n",
        "        optimizer.step()\n",
        "        if batch_idx == 0:\n",
        "            test_loss = []\n",
        "            for xx1, xx2, yy in test_loader:\n",
        "                xx1, xx2, yy = xx1.to(device).float(), xx2.to(device).float(), yy.to(device).float()\n",
        "                model.zero_grad()\n",
        "                yyout = model(xx1, xx2)\n",
        "                test_loss.append(criterion(yyout.flatten(), yy).detach().cpu().numpy())\n",
        "            print(\"Epoch: {}, Loss: {:.2f}, Val Loss: {:.2f}\".format(i, loss, np.mean(test_loss)))"
      ],
      "execution_count": 11,
      "outputs": [
        {
          "output_type": "stream",
          "text": [
            "Epoch: 0, Loss: 1.39, Val Loss: 26.33\n",
            "Epoch: 1, Loss: 0.47, Val Loss: 23.90\n",
            "Epoch: 2, Loss: 0.69, Val Loss: 24.29\n",
            "Epoch: 3, Loss: 6.31, Val Loss: 24.21\n",
            "Epoch: 4, Loss: 0.36, Val Loss: 24.23\n",
            "Epoch: 5, Loss: 2.00, Val Loss: 24.22\n",
            "Epoch: 6, Loss: 1.60, Val Loss: 24.23\n",
            "Epoch: 7, Loss: 0.82, Val Loss: 24.27\n",
            "Epoch: 8, Loss: 0.40, Val Loss: 24.21\n"
          ],
          "name": "stdout"
        },
        {
          "output_type": "error",
          "ename": "KeyboardInterrupt",
          "evalue": "ignored",
          "traceback": [
            "\u001b[0;31m---------------------------------------------------------------------------\u001b[0m",
            "\u001b[0;31mKeyboardInterrupt\u001b[0m                         Traceback (most recent call last)",
            "\u001b[0;32m<ipython-input-11-b732f7e8800d>\u001b[0m in \u001b[0;36m<module>\u001b[0;34m()\u001b[0m\n\u001b[1;32m      7\u001b[0m         \u001b[0moutput\u001b[0m \u001b[0;34m=\u001b[0m \u001b[0mmodel\u001b[0m\u001b[0;34m(\u001b[0m\u001b[0mx1\u001b[0m\u001b[0;34m,\u001b[0m \u001b[0mx2\u001b[0m\u001b[0;34m)\u001b[0m\u001b[0;34m\u001b[0m\u001b[0;34m\u001b[0m\u001b[0m\n\u001b[1;32m      8\u001b[0m         \u001b[0mloss\u001b[0m \u001b[0;34m=\u001b[0m \u001b[0mcriterion\u001b[0m\u001b[0;34m(\u001b[0m\u001b[0moutput\u001b[0m\u001b[0;34m.\u001b[0m\u001b[0mflatten\u001b[0m\u001b[0;34m(\u001b[0m\u001b[0;34m)\u001b[0m\u001b[0;34m,\u001b[0m \u001b[0my\u001b[0m\u001b[0;34m)\u001b[0m\u001b[0;34m\u001b[0m\u001b[0;34m\u001b[0m\u001b[0m\n\u001b[0;32m----> 9\u001b[0;31m         \u001b[0mloss\u001b[0m\u001b[0;34m.\u001b[0m\u001b[0mbackward\u001b[0m\u001b[0;34m(\u001b[0m\u001b[0;34m)\u001b[0m\u001b[0;34m\u001b[0m\u001b[0;34m\u001b[0m\u001b[0m\n\u001b[0m\u001b[1;32m     10\u001b[0m         \u001b[0moptimizer\u001b[0m\u001b[0;34m.\u001b[0m\u001b[0mstep\u001b[0m\u001b[0;34m(\u001b[0m\u001b[0;34m)\u001b[0m\u001b[0;34m\u001b[0m\u001b[0;34m\u001b[0m\u001b[0m\n\u001b[1;32m     11\u001b[0m         \u001b[0;32mif\u001b[0m \u001b[0mbatch_idx\u001b[0m \u001b[0;34m==\u001b[0m \u001b[0;36m0\u001b[0m\u001b[0;34m:\u001b[0m\u001b[0;34m\u001b[0m\u001b[0;34m\u001b[0m\u001b[0m\n",
            "\u001b[0;32m/usr/local/lib/python3.6/dist-packages/torch/tensor.py\u001b[0m in \u001b[0;36mbackward\u001b[0;34m(self, gradient, retain_graph, create_graph)\u001b[0m\n\u001b[1;32m    183\u001b[0m                 \u001b[0mproducts\u001b[0m\u001b[0;34m.\u001b[0m \u001b[0mDefaults\u001b[0m \u001b[0mto\u001b[0m\u001b[0;31m \u001b[0m\u001b[0;31m`\u001b[0m\u001b[0;31m`\u001b[0m\u001b[0;32mFalse\u001b[0m\u001b[0;31m`\u001b[0m\u001b[0;31m`\u001b[0m\u001b[0;34m.\u001b[0m\u001b[0;34m\u001b[0m\u001b[0;34m\u001b[0m\u001b[0m\n\u001b[1;32m    184\u001b[0m         \"\"\"\n\u001b[0;32m--> 185\u001b[0;31m         \u001b[0mtorch\u001b[0m\u001b[0;34m.\u001b[0m\u001b[0mautograd\u001b[0m\u001b[0;34m.\u001b[0m\u001b[0mbackward\u001b[0m\u001b[0;34m(\u001b[0m\u001b[0mself\u001b[0m\u001b[0;34m,\u001b[0m \u001b[0mgradient\u001b[0m\u001b[0;34m,\u001b[0m \u001b[0mretain_graph\u001b[0m\u001b[0;34m,\u001b[0m \u001b[0mcreate_graph\u001b[0m\u001b[0;34m)\u001b[0m\u001b[0;34m\u001b[0m\u001b[0;34m\u001b[0m\u001b[0m\n\u001b[0m\u001b[1;32m    186\u001b[0m \u001b[0;34m\u001b[0m\u001b[0m\n\u001b[1;32m    187\u001b[0m     \u001b[0;32mdef\u001b[0m \u001b[0mregister_hook\u001b[0m\u001b[0;34m(\u001b[0m\u001b[0mself\u001b[0m\u001b[0;34m,\u001b[0m \u001b[0mhook\u001b[0m\u001b[0;34m)\u001b[0m\u001b[0;34m:\u001b[0m\u001b[0;34m\u001b[0m\u001b[0;34m\u001b[0m\u001b[0m\n",
            "\u001b[0;32m/usr/local/lib/python3.6/dist-packages/torch/autograd/__init__.py\u001b[0m in \u001b[0;36mbackward\u001b[0;34m(tensors, grad_tensors, retain_graph, create_graph, grad_variables)\u001b[0m\n\u001b[1;32m    125\u001b[0m     Variable._execution_engine.run_backward(\n\u001b[1;32m    126\u001b[0m         \u001b[0mtensors\u001b[0m\u001b[0;34m,\u001b[0m \u001b[0mgrad_tensors\u001b[0m\u001b[0;34m,\u001b[0m \u001b[0mretain_graph\u001b[0m\u001b[0;34m,\u001b[0m \u001b[0mcreate_graph\u001b[0m\u001b[0;34m,\u001b[0m\u001b[0;34m\u001b[0m\u001b[0;34m\u001b[0m\u001b[0m\n\u001b[0;32m--> 127\u001b[0;31m         allow_unreachable=True)  # allow_unreachable flag\n\u001b[0m\u001b[1;32m    128\u001b[0m \u001b[0;34m\u001b[0m\u001b[0m\n\u001b[1;32m    129\u001b[0m \u001b[0;34m\u001b[0m\u001b[0m\n",
            "\u001b[0;31mKeyboardInterrupt\u001b[0m: "
          ]
        }
      ]
    },
    {
      "cell_type": "code",
      "metadata": {
        "id": "cjDopJwbVP-E",
        "colab_type": "code",
        "colab": {}
      },
      "source": [
        "# https://www.kaggle.com/karanjakhar/simple-and-easy-aprroach-using-lstm"
      ],
      "execution_count": null,
      "outputs": []
    }
  ]
}