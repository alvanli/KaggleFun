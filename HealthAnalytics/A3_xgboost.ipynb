{
 "cells": [
  {
   "cell_type": "code",
   "execution_count": 1,
   "metadata": {},
   "outputs": [
    {
     "data": {
      "text/html": [
       "<div>\n",
       "<style scoped>\n",
       "    .dataframe tbody tr th:only-of-type {\n",
       "        vertical-align: middle;\n",
       "    }\n",
       "\n",
       "    .dataframe tbody tr th {\n",
       "        vertical-align: top;\n",
       "    }\n",
       "\n",
       "    .dataframe thead th {\n",
       "        text-align: right;\n",
       "    }\n",
       "</style>\n",
       "<table border=\"1\" class=\"dataframe\">\n",
       "  <thead>\n",
       "    <tr style=\"text-align: right;\">\n",
       "      <th></th>\n",
       "      <th>Unnamed: 0</th>\n",
       "      <th>Hospital_type_code</th>\n",
       "      <th>City_Code_Hospital</th>\n",
       "      <th>Hospital_region_code</th>\n",
       "      <th>Available Extra Rooms in Hospital</th>\n",
       "      <th>Department</th>\n",
       "      <th>Ward_Type</th>\n",
       "      <th>Ward_Facility_Code</th>\n",
       "      <th>Bed Grade</th>\n",
       "      <th>City_Code_Patient</th>\n",
       "      <th>Type of Admission</th>\n",
       "      <th>Severity of Illness</th>\n",
       "      <th>Visitors with Patient</th>\n",
       "      <th>Age</th>\n",
       "      <th>Admission_Deposit</th>\n",
       "      <th>Stay</th>\n",
       "    </tr>\n",
       "  </thead>\n",
       "  <tbody>\n",
       "    <tr>\n",
       "      <th>0</th>\n",
       "      <td>231676</td>\n",
       "      <td>0</td>\n",
       "      <td>7</td>\n",
       "      <td>1</td>\n",
       "      <td>4</td>\n",
       "      <td>2</td>\n",
       "      <td>1</td>\n",
       "      <td>2</td>\n",
       "      <td>2.0</td>\n",
       "      <td>8.0</td>\n",
       "      <td>0</td>\n",
       "      <td>1</td>\n",
       "      <td>4</td>\n",
       "      <td>4</td>\n",
       "      <td>6247.0</td>\n",
       "      <td>2</td>\n",
       "    </tr>\n",
       "    <tr>\n",
       "      <th>1</th>\n",
       "      <td>166821</td>\n",
       "      <td>0</td>\n",
       "      <td>7</td>\n",
       "      <td>1</td>\n",
       "      <td>2</td>\n",
       "      <td>3</td>\n",
       "      <td>3</td>\n",
       "      <td>2</td>\n",
       "      <td>1.0</td>\n",
       "      <td>2.0</td>\n",
       "      <td>0</td>\n",
       "      <td>1</td>\n",
       "      <td>6</td>\n",
       "      <td>6</td>\n",
       "      <td>8000.0</td>\n",
       "      <td>10</td>\n",
       "    </tr>\n",
       "    <tr>\n",
       "      <th>2</th>\n",
       "      <td>70566</td>\n",
       "      <td>1</td>\n",
       "      <td>2</td>\n",
       "      <td>1</td>\n",
       "      <td>2</td>\n",
       "      <td>3</td>\n",
       "      <td>2</td>\n",
       "      <td>3</td>\n",
       "      <td>3.0</td>\n",
       "      <td>7.0</td>\n",
       "      <td>0</td>\n",
       "      <td>2</td>\n",
       "      <td>3</td>\n",
       "      <td>2</td>\n",
       "      <td>4987.0</td>\n",
       "      <td>1</td>\n",
       "    </tr>\n",
       "    <tr>\n",
       "      <th>3</th>\n",
       "      <td>197982</td>\n",
       "      <td>1</td>\n",
       "      <td>2</td>\n",
       "      <td>1</td>\n",
       "      <td>2</td>\n",
       "      <td>2</td>\n",
       "      <td>1</td>\n",
       "      <td>3</td>\n",
       "      <td>3.0</td>\n",
       "      <td>14.0</td>\n",
       "      <td>1</td>\n",
       "      <td>1</td>\n",
       "      <td>3</td>\n",
       "      <td>6</td>\n",
       "      <td>7210.0</td>\n",
       "      <td>6</td>\n",
       "    </tr>\n",
       "    <tr>\n",
       "      <th>4</th>\n",
       "      <td>280389</td>\n",
       "      <td>3</td>\n",
       "      <td>13</td>\n",
       "      <td>1</td>\n",
       "      <td>4</td>\n",
       "      <td>3</td>\n",
       "      <td>2</td>\n",
       "      <td>1</td>\n",
       "      <td>2.0</td>\n",
       "      <td>8.0</td>\n",
       "      <td>2</td>\n",
       "      <td>1</td>\n",
       "      <td>2</td>\n",
       "      <td>4</td>\n",
       "      <td>3178.0</td>\n",
       "      <td>5</td>\n",
       "    </tr>\n",
       "  </tbody>\n",
       "</table>\n",
       "</div>"
      ],
      "text/plain": [
       "   Unnamed: 0  Hospital_type_code  City_Code_Hospital  Hospital_region_code  \\\n",
       "0      231676                   0                   7                     1   \n",
       "1      166821                   0                   7                     1   \n",
       "2       70566                   1                   2                     1   \n",
       "3      197982                   1                   2                     1   \n",
       "4      280389                   3                  13                     1   \n",
       "\n",
       "   Available Extra Rooms in Hospital  Department  Ward_Type  \\\n",
       "0                                  4           2          1   \n",
       "1                                  2           3          3   \n",
       "2                                  2           3          2   \n",
       "3                                  2           2          1   \n",
       "4                                  4           3          2   \n",
       "\n",
       "   Ward_Facility_Code  Bed Grade  City_Code_Patient  Type of Admission  \\\n",
       "0                   2        2.0                8.0                  0   \n",
       "1                   2        1.0                2.0                  0   \n",
       "2                   3        3.0                7.0                  0   \n",
       "3                   3        3.0               14.0                  1   \n",
       "4                   1        2.0                8.0                  2   \n",
       "\n",
       "   Severity of Illness  Visitors with Patient  Age  Admission_Deposit  Stay  \n",
       "0                    1                      4    4             6247.0     2  \n",
       "1                    1                      6    6             8000.0    10  \n",
       "2                    2                      3    2             4987.0     1  \n",
       "3                    1                      3    6             7210.0     6  \n",
       "4                    1                      2    4             3178.0     5  "
      ]
     },
     "execution_count": 1,
     "metadata": {},
     "output_type": "execute_result"
    }
   ],
   "source": [
    "import pandas as pd\n",
    "import numpy as np\n",
    "import os\n",
    "import matplotlib.pyplot as plt\n",
    "base_dir = \"/home/aldec/data/random_stuff/KaggleFun/HealthAnalytics\"\n",
    "df_train = pd.read_csv(os.path.join(base_dir,\"pro_train.csv\"))\n",
    "df_test = pd.read_csv(os.path.join(base_dir,\"pro_test.csv\"))\n",
    "df_train.head(5)"
   ]
  },
  {
   "cell_type": "code",
   "execution_count": 2,
   "metadata": {},
   "outputs": [],
   "source": [
    "df_y = df_train.Stay\n",
    "df_train = df_train.drop(\"Stay\", axis = 1)"
   ]
  },
  {
   "cell_type": "code",
   "execution_count": 3,
   "metadata": {},
   "outputs": [],
   "source": [
    "df_test_y = df_test.Stay\n",
    "df_test = df_test.drop(\"Stay\", axis=1)"
   ]
  },
  {
   "cell_type": "code",
   "execution_count": 4,
   "metadata": {},
   "outputs": [],
   "source": [
    "from sklearn.preprocessing import StandardScaler\n",
    "\n",
    "num_attribs = [\"Available Extra Rooms in Hospital\", \"Bed Grade\", \"Visitors with Patient\", \"Admission_Deposit\"]\n",
    "cat_attribs = [\"Hospital_type_code\", \"City_Code_Hospital\", \"Hospital_region_code\", \"Department\", \"Ward_Type\", \"Ward_Facility_Code\", \"City_Code_Patient\", \"Type of Admission\"]\n",
    "\n",
    "scaler = StandardScaler()\n",
    "\n",
    "df_train[num_attribs] = scaler.fit_transform(df_train[num_attribs])\n",
    "df_test[num_attribs] = scaler.fit_transform(df_test[num_attribs])"
   ]
  },
  {
   "cell_type": "code",
   "execution_count": 5,
   "metadata": {},
   "outputs": [],
   "source": [
    "def eva(model):\n",
    "    y0 = model.predict(df_train)\n",
    "    correct = 0\n",
    "    df_y0 = df_y\n",
    "    for i in range(len(y0)):\n",
    "        if y0[i] == df_y0[i]: \n",
    "            correct += 1\n",
    "    a1 = correct / len(df_train)\n",
    "    \n",
    "    y0 = model.predict(df_test)\n",
    "    correct = 0\n",
    "    df_y0 = df_test_y\n",
    "    for i in range(len(y0)):\n",
    "        if y0[i] == df_y0[i]: \n",
    "            correct += 1\n",
    "    a2 = correct / len(df_test)\n",
    "    \n",
    "    return a1, a2"
   ]
  },
  {
   "cell_type": "code",
   "execution_count": 6,
   "metadata": {},
   "outputs": [
    {
     "name": "stdout",
     "output_type": "stream",
     "text": [
      "LR: 0.3, Depth: 8, Estimators: 200\n"
     ]
    },
    {
     "name": "stderr",
     "output_type": "stream",
     "text": [
      "/home/aldec/.local/lib/python3.8/site-packages/xgboost/data.py:112: UserWarning: Use subset (sliced data) of np.ndarray is not recommended because it will generate extra copies and increase memory consumption\n",
      "  warnings.warn(\n"
     ]
    },
    {
     "name": "stdout",
     "output_type": "stream",
     "text": [
      "Acc: 0.6020 || Test Acc: 0.4197\n",
      "\n",
      "LR: 0.3, Depth: 8, Estimators: 250\n",
      "Acc: 0.6303 || Test Acc: 0.4197\n",
      "\n",
      "LR: 0.3, Depth: 10, Estimators: 200\n",
      "Acc: 0.7387 || Test Acc: 0.4172\n",
      "\n",
      "LR: 0.3, Depth: 10, Estimators: 250\n",
      "Acc: 0.7751 || Test Acc: 0.4159\n",
      "\n",
      "LR: 0.7, Depth: 8, Estimators: 200\n",
      "Acc: 0.7294 || Test Acc: 0.4031\n",
      "\n",
      "LR: 0.7, Depth: 8, Estimators: 250\n",
      "Acc: 0.7714 || Test Acc: 0.4014\n",
      "\n",
      "LR: 0.7, Depth: 10, Estimators: 200\n",
      "Acc: 0.8943 || Test Acc: 0.3967\n",
      "\n",
      "LR: 0.7, Depth: 10, Estimators: 250\n",
      "Acc: 0.9282 || Test Acc: 0.3953\n",
      "\n"
     ]
    }
   ],
   "source": [
    "from xgboost import XGBClassifier\n",
    "learning_rate = 0.5\n",
    "max_depth = 5\n",
    "n_estimators = 200\n",
    "\n",
    "for learning_rate in [0.3,0.7]:\n",
    "    for max_depth in [8,10]:\n",
    "        for n_estimators in [200,250]:\n",
    "            xgb_model=XGBClassifier(objective=\"multi:softmax\", eval_metric=\"merror\", learning_rate=learning_rate,min_child_weight=1, max_depth=max_depth, n_estimators=n_estimators, use_label_encoder=False)\n",
    "            xgb_model.fit(df_train,df_y)\n",
    "            print(\"LR: {}, Depth: {}, Estimators: {}\".format(learning_rate, max_depth, n_estimators))\n",
    "            a1, a2 = eva(xgb_model)\n",
    "            print(\"Acc: {:.04f} || Test Acc: {:.04f}\".format(a1,a2))\n",
    "            print()\n",
    "            del xgb_model"
   ]
  },
  {
   "cell_type": "code",
   "execution_count": 7,
   "metadata": {},
   "outputs": [
    {
     "name": "stderr",
     "output_type": "stream",
     "text": [
      "/home/aldec/.local/lib/python3.8/site-packages/xgboost/sklearn.py:1146: UserWarning: The use of label encoder in XGBClassifier is deprecated and will be removed in a future release. To remove this warning, do the following: 1) Pass option use_label_encoder=False when constructing XGBClassifier object; and 2) Encode your labels (y) as integers starting with 0, i.e. 0, 1, 2, ..., [num_class - 1].\n",
      "  warnings.warn(label_encoder_deprecation_msg, UserWarning)\n"
     ]
    },
    {
     "name": "stdout",
     "output_type": "stream",
     "text": [
      "[20:35:44] WARNING: ../src/learner.cc:1095: Starting in XGBoost 1.3.0, the default evaluation metric used with the objective 'multi:softprob' was changed from 'merror' to 'mlogloss'. Explicitly set eval_metric if you'd like to restore the old behavior.\n",
      "Train Complete, Evaluating...\n",
      "LR: 0.7, Depth: 10, Estimators: 250\n"
     ]
    }
   ],
   "source": [
    "xgb_model=XGBClassifier(objective=\"multi:softmax\",learning_rate=0.3,min_child_weight=1, max_depth=8, n_estimators=250)\n",
    "xgb_model.fit(df_train,df_y)\n",
    "print(\"Train Complete, Evaluating...\")\n",
    "print(\"LR: {}, Depth: {}, Estimators: {}\".format(learning_rate, max_depth, n_estimators))\n",
    "a1, a2 = eva(xgb_model)"
   ]
  },
  {
   "cell_type": "code",
   "execution_count": 10,
   "metadata": {},
   "outputs": [
    {
     "data": {
      "image/png": "[encoded data removed]",
      "text/plain": [
       "<Figure size 432x288 with 1 Axes>"
      ]
     },
     "metadata": {
      "needs_background": "light"
     },
     "output_type": "display_data"
    }
   ],
   "source": [
    "plt.bar(range(len(xgb_model.feature_importances_)), xgb_model.feature_importances_)\n",
    "plt.show()"
   ]
  },
  {
   "cell_type": "code",
   "execution_count": 11,
   "metadata": {},
   "outputs": [
    {
     "data": {
      "text/plain": [
       "array([13,  5,  0,  4, 14,  9,  7,  3,  2,  1, 11,  8, 10,  6, 12])"
      ]
     },
     "execution_count": 11,
     "metadata": {},
     "output_type": "execute_result"
    }
   ],
   "source": [
    "np.argsort(xgb_model.feature_importances_)"
   ]
  },
  {
   "cell_type": "markdown",
   "metadata": {},
   "source": [
    "# "
   ]
  }
 ],
 "metadata": {
  "kernelspec": {
   "display_name": "Python 3",
   "language": "python",
   "name": "python3"
  },
  "language_info": {
   "codemirror_mode": {
    "name": "ipython",
    "version": 3
   },
   "file_extension": ".py",
   "mimetype": "text/x-python",
   "name": "python",
   "nbconvert_exporter": "python",
   "pygments_lexer": "ipython3",
   "version": "3.8.5"
  }
 },
 "nbformat": 4,
 "nbformat_minor": 2
}
